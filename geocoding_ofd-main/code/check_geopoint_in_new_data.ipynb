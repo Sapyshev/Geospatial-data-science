{
 "cells": [
  {
   "cell_type": "markdown",
   "id": "67199dde",
   "metadata": {},
   "source": [
    "### Ноутбук необходим для загрузки новых данных офд и проверки новых адресов с имеющейся для добавления новых"
   ]
  },
  {
   "cell_type": "code",
   "execution_count": 1,
   "id": "02f590f9",
   "metadata": {},
   "outputs": [],
   "source": [
    "import pandas as pd\n",
    "import numpy as np"
   ]
  },
  {
   "cell_type": "code",
   "execution_count": 109,
   "id": "217edee2",
   "metadata": {},
   "outputs": [
    {
     "name": "stderr",
     "output_type": "stream",
     "text": [
      "/opt/anaconda3/lib/python3.8/site-packages/IPython/core/interactiveshell.py:3165: DtypeWarning: Columns (9,11,13) have mixed types.Specify dtype option on import or set low_memory=False.\n",
      "  has_raised = await self.run_ast_nodes(code_ast.body, cell_name,\n"
     ]
    }
   ],
   "source": [
    "df_ofd = pd.read_csv('/Users/rollan/Desktop/ofd/data/ktelecom_data/04.05.2022-10.05.2022.zip', dtype={\n",
    "                    'KkmsRetailPlaceOrgCatalog_orgInn': 'str'},\n",
    "                    usecols = ['KkmsRetailPlaceOrgCatalog_orgInn',\n",
    "                              'KkmsRetailPlaceOrgCatalog_retailPlaceAddressRegionCode',\n",
    "                              'KkmsRetailPlaceOrgCatalog_retailPlaceAddressArea', \n",
    "                              'KkmsRetailPlaceOrgCatalog_retailPlaceAddressCity',\n",
    "                              'KkmsRetailPlaceOrgCatalog_retailPlaceAddressVillage', \n",
    "                              'KkmsRetailPlaceOrgCatalog_retailPlaceAddressStreet',\n",
    "                              'KkmsRetailPlaceOrgCatalog_retailPlaceAddressHouse'])"
   ]
  },
  {
   "cell_type": "code",
   "execution_count": 110,
   "id": "4c57e840",
   "metadata": {},
   "outputs": [],
   "source": [
    "kz_geocode_last = pd.read_csv('../data/processed_data/kaz_geocash.csv',index_col=0)"
   ]
  },
  {
   "cell_type": "code",
   "execution_count": 111,
   "id": "cb4d4240",
   "metadata": {},
   "outputs": [],
   "source": [
    "dict_region = pd.read_csv('../data/interim_data/region_dict.csv')"
   ]
  },
  {
   "cell_type": "code",
   "execution_count": 112,
   "id": "15a25129",
   "metadata": {},
   "outputs": [],
   "source": [
    "def process_data(ofd_data):\n",
    "    \"\"\"\n",
    "    Returns the unique addresses of the last week ofd raw data\n",
    "\n",
    "    Parameters:\n",
    "        ofd_data: ofd raw dataset\n",
    "\n",
    "    Returns:\n",
    "        ofd_data_clean: unique addresses of ofd dataset\n",
    "    \"\"\"\n",
    "    ofd_data.drop_duplicates(subset = ['KkmsRetailPlaceOrgCatalog_retailPlaceAddressArea',\n",
    "                        'KkmsRetailPlaceOrgCatalog_retailPlaceAddressCity',\n",
    "                        'KkmsRetailPlaceOrgCatalog_retailPlaceAddressVillage',\n",
    "                        'KkmsRetailPlaceOrgCatalog_retailPlaceAddressStreet',\n",
    "                        'KkmsRetailPlaceOrgCatalog_retailPlaceAddressHouse'], inplace=True)\n",
    "    ofd_data['full_add'] = ofd_data[ofd_data.columns[2:]].apply(lambda x: ','.join(x.dropna().astype(str)),axis=1)\n",
    "    ofd_data.drop_duplicates(subset = ['full_add'], inplace=True)\n",
    "    ofd_data_clean = ofd_data.merge(dict_region[['code','region']],how='left',\n",
    "                        left_on='KkmsRetailPlaceOrgCatalog_retailPlaceAddressRegionCode',\n",
    "                        right_on='code')\n",
    "    ofd_data_clean.rename(columns={'KkmsRetailPlaceOrgCatalog_orgInn':'bin'}, inplace=True)\n",
    "    ofd_data_clean = ofd_data_clean[['bin','code','region','full_add']]\n",
    "    return ofd_data_clean"
   ]
  },
  {
   "cell_type": "code",
   "execution_count": 114,
   "id": "74cf2e6e",
   "metadata": {},
   "outputs": [
    {
     "name": "stdout",
     "output_type": "stream",
     "text": [
      "CPU times: user 52.9 s, sys: 23.1 s, total: 1min 15s\n",
      "Wall time: 1min 25s\n"
     ]
    }
   ],
   "source": [
    "%%time\n",
    "df_ofd_process = process_data(df_ofd)"
   ]
  },
  {
   "cell_type": "markdown",
   "id": "ecfff14a",
   "metadata": {},
   "source": [
    "#### Загрузка базы кодов с геокоординатами и сравнение отличий"
   ]
  },
  {
   "cell_type": "code",
   "execution_count": 115,
   "id": "3df81561",
   "metadata": {},
   "outputs": [],
   "source": [
    "def address_check(new_ofd,current_database):\n",
    "    \"\"\"\n",
    "    Return addresses which are not in geocoding dataset\n",
    "\n",
    "    Parameters:\n",
    "        new_ofd: unique addresses of ofd dataset\n",
    "        current_database: full geocoding dataset\n",
    "\n",
    "    Returns:\n",
    "        new_ofd_last: not macthed addresses \n",
    "    \"\"\"    \n",
    "    set_new_ofd = set(new_ofd['full_add'].values)\n",
    "    set_current_database = set(current_database['full_add'].values)\n",
    "    \n",
    "    diff_ofd_base = list(set_new_ofd.difference(set_current_database))\n",
    "    new_ofd_last = new_ofd[new_ofd['full_add'].isin(diff_ofd_base)]\n",
    "    \n",
    "    new_ofd_last.reset_index(drop=True,inplace=True)\n",
    "    return new_ofd_last"
   ]
  },
  {
   "cell_type": "code",
   "execution_count": 116,
   "id": "90094a85",
   "metadata": {},
   "outputs": [],
   "source": [
    "df_ofd_unique_cut_region = address_check(df_ofd_process,kz_geocode_last)"
   ]
  },
  {
   "cell_type": "code",
   "execution_count": 118,
   "id": "2dc9caba",
   "metadata": {},
   "outputs": [
    {
     "data": {
      "text/plain": [
       "(41697, 4)"
      ]
     },
     "execution_count": 118,
     "metadata": {},
     "output_type": "execute_result"
    }
   ],
   "source": [
    "df_ofd_unique_cut_region.shape"
   ]
  },
  {
   "cell_type": "code",
   "execution_count": 101,
   "id": "1991c7df",
   "metadata": {},
   "outputs": [],
   "source": [
    "df_ofd_unique_cut_region.to_csv('data/to_geocode_data/diff_address_17.05.2022.csv')"
   ]
  }
 ],
 "metadata": {
  "hide_input": false,
  "kernelspec": {
   "display_name": "Python 3",
   "language": "python",
   "name": "python3"
  },
  "language_info": {
   "codemirror_mode": {
    "name": "ipython",
    "version": 3
   },
   "file_extension": ".py",
   "mimetype": "text/x-python",
   "name": "python",
   "nbconvert_exporter": "python",
   "pygments_lexer": "ipython3",
   "version": "3.8.8"
  }
 },
 "nbformat": 4,
 "nbformat_minor": 5
}
